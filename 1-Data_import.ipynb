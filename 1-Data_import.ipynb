{
 "cells": [
  {
   "cell_type": "markdown",
   "metadata": {
    "colab_type": "text",
    "id": "0ni2HxAdKCcU"
   },
   "source": [
    "## Notebook for reading in data and dumping dataframes with pickle"
   ]
  },
  {
   "cell_type": "markdown",
   "metadata": {
    "colab_type": "text",
    "id": "gfvzGQhs1DI8"
   },
   "source": [
    "### Imports and settings"
   ]
  },
  {
   "cell_type": "code",
   "execution_count": 1,
   "metadata": {
    "colab": {},
    "colab_type": "code",
    "id": "3X6G1nnwYVop"
   },
   "outputs": [],
   "source": [
    "import pandas as pd\n",
    "\n",
    "import sklearn\n",
    "import pickle\n",
    "\n",
    "GOOD_REVIEW_LIMIT = 3.5"
   ]
  },
  {
   "cell_type": "markdown",
   "metadata": {
    "colab_type": "text",
    "id": "AXiiu9YjyJ_Y"
   },
   "source": [
    "### Reading in data"
   ]
  },
  {
   "cell_type": "code",
   "execution_count": 2,
   "metadata": {
    "colab": {},
    "colab_type": "code",
    "id": "mpBFbMA2TUo9"
   },
   "outputs": [],
   "source": [
    "random_reviews = pd.read_csv(r'./Yelp_data/1000_random_reviews.csv', parse_dates=[\"date\"])\n",
    "bow1000 = pd.read_csv(r'./Yelp_data/bow1000.csv') "
   ]
  },
  {
   "cell_type": "code",
   "execution_count": 3,
   "metadata": {},
   "outputs": [
    {
     "data": {
      "text/html": [
       "<div>\n",
       "<style scoped>\n",
       "    .dataframe tbody tr th:only-of-type {\n",
       "        vertical-align: middle;\n",
       "    }\n",
       "\n",
       "    .dataframe tbody tr th {\n",
       "        vertical-align: top;\n",
       "    }\n",
       "\n",
       "    .dataframe thead th {\n",
       "        text-align: right;\n",
       "    }\n",
       "</style>\n",
       "<table border=\"1\" class=\"dataframe\">\n",
       "  <thead>\n",
       "    <tr style=\"text-align: right;\">\n",
       "      <th></th>\n",
       "      <th>business_id</th>\n",
       "      <th>cool</th>\n",
       "      <th>date</th>\n",
       "      <th>funny</th>\n",
       "      <th>review_id</th>\n",
       "      <th>stars</th>\n",
       "      <th>text</th>\n",
       "      <th>useful</th>\n",
       "      <th>user_id</th>\n",
       "    </tr>\n",
       "  </thead>\n",
       "  <tbody>\n",
       "    <tr>\n",
       "      <th>0</th>\n",
       "      <td>KW5edXlPGeZ0cx7MiJyamw</td>\n",
       "      <td>0</td>\n",
       "      <td>2017-03-07 02:03:24</td>\n",
       "      <td>0</td>\n",
       "      <td>nkvJghZnOkZy4HAo87ouSA</td>\n",
       "      <td>5</td>\n",
       "      <td>A stellar cafe!!! Very classy, warm &amp; inviting...</td>\n",
       "      <td>0</td>\n",
       "      <td>PH2Ly-LUDc5i-eW_97MlNw</td>\n",
       "    </tr>\n",
       "    <tr>\n",
       "      <th>1</th>\n",
       "      <td>oxwGyA17NL6c5t1Etg5WgQ</td>\n",
       "      <td>0</td>\n",
       "      <td>2017-04-13 04:03:48</td>\n",
       "      <td>0</td>\n",
       "      <td>7KrKzKgUdflicfUs_bWNUQ</td>\n",
       "      <td>1</td>\n",
       "      <td>Can you say \"Bait and Switch?\"  A couple of da...</td>\n",
       "      <td>1</td>\n",
       "      <td>EnSUGj7a7FocW3blBj_hEw</td>\n",
       "    </tr>\n",
       "    <tr>\n",
       "      <th>2</th>\n",
       "      <td>bKxKPGmkwH-Q-GSbt7chNA</td>\n",
       "      <td>1</td>\n",
       "      <td>2013-08-11 20:05:49</td>\n",
       "      <td>1</td>\n",
       "      <td>f54iEgnNZEE-JPcdVuNXSQ</td>\n",
       "      <td>2</td>\n",
       "      <td>When first walking in to Stingray Sushi, a low...</td>\n",
       "      <td>3</td>\n",
       "      <td>aY4FqMsNXBirS72lM_CdwQ</td>\n",
       "    </tr>\n",
       "    <tr>\n",
       "      <th>3</th>\n",
       "      <td>q5viyMO6EtJMmmarb4YmIA</td>\n",
       "      <td>0</td>\n",
       "      <td>2015-01-09 23:57:08</td>\n",
       "      <td>0</td>\n",
       "      <td>AtKH9dzGHIKoyAhOLcVUIw</td>\n",
       "      <td>4</td>\n",
       "      <td>A very beautiful restaurant in the Hardrock ca...</td>\n",
       "      <td>2</td>\n",
       "      <td>CTaZ3ebFGQMHaLZhnO2EuA</td>\n",
       "    </tr>\n",
       "    <tr>\n",
       "      <th>4</th>\n",
       "      <td>BS7PU7REvJZ7hVSHA6z8wQ</td>\n",
       "      <td>0</td>\n",
       "      <td>2017-09-03 22:40:45</td>\n",
       "      <td>0</td>\n",
       "      <td>C5vaxaN3IZvmBpvcv0uYXw</td>\n",
       "      <td>2</td>\n",
       "      <td>I've been here twice. The first time was a pre...</td>\n",
       "      <td>1</td>\n",
       "      <td>Kya8CWymuq437rxhHyiM2g</td>\n",
       "    </tr>\n",
       "  </tbody>\n",
       "</table>\n",
       "</div>"
      ],
      "text/plain": [
       "              business_id  cool                date  funny  \\\n",
       "0  KW5edXlPGeZ0cx7MiJyamw     0 2017-03-07 02:03:24      0   \n",
       "1  oxwGyA17NL6c5t1Etg5WgQ     0 2017-04-13 04:03:48      0   \n",
       "2  bKxKPGmkwH-Q-GSbt7chNA     1 2013-08-11 20:05:49      1   \n",
       "3  q5viyMO6EtJMmmarb4YmIA     0 2015-01-09 23:57:08      0   \n",
       "4  BS7PU7REvJZ7hVSHA6z8wQ     0 2017-09-03 22:40:45      0   \n",
       "\n",
       "                review_id  stars  \\\n",
       "0  nkvJghZnOkZy4HAo87ouSA      5   \n",
       "1  7KrKzKgUdflicfUs_bWNUQ      1   \n",
       "2  f54iEgnNZEE-JPcdVuNXSQ      2   \n",
       "3  AtKH9dzGHIKoyAhOLcVUIw      4   \n",
       "4  C5vaxaN3IZvmBpvcv0uYXw      2   \n",
       "\n",
       "                                                text  useful  \\\n",
       "0  A stellar cafe!!! Very classy, warm & inviting...       0   \n",
       "1  Can you say \"Bait and Switch?\"  A couple of da...       1   \n",
       "2  When first walking in to Stingray Sushi, a low...       3   \n",
       "3  A very beautiful restaurant in the Hardrock ca...       2   \n",
       "4  I've been here twice. The first time was a pre...       1   \n",
       "\n",
       "                  user_id  \n",
       "0  PH2Ly-LUDc5i-eW_97MlNw  \n",
       "1  EnSUGj7a7FocW3blBj_hEw  \n",
       "2  aY4FqMsNXBirS72lM_CdwQ  \n",
       "3  CTaZ3ebFGQMHaLZhnO2EuA  \n",
       "4  Kya8CWymuq437rxhHyiM2g  "
      ]
     },
     "execution_count": 3,
     "metadata": {},
     "output_type": "execute_result"
    }
   ],
   "source": [
    "random_reviews.head()"
   ]
  },
  {
   "cell_type": "code",
   "execution_count": 7,
   "metadata": {},
   "outputs": [
    {
     "data": {
      "text/html": [
       "<div>\n",
       "<style scoped>\n",
       "    .dataframe tbody tr th:only-of-type {\n",
       "        vertical-align: middle;\n",
       "    }\n",
       "\n",
       "    .dataframe tbody tr th {\n",
       "        vertical-align: top;\n",
       "    }\n",
       "\n",
       "    .dataframe thead th {\n",
       "        text-align: right;\n",
       "    }\n",
       "</style>\n",
       "<table border=\"1\" class=\"dataframe\">\n",
       "  <thead>\n",
       "    <tr style=\"text-align: right;\">\n",
       "      <th></th>\n",
       "      <th>able</th>\n",
       "      <th>absolutely</th>\n",
       "      <th>accommodating</th>\n",
       "      <th>across</th>\n",
       "      <th>actually</th>\n",
       "      <th>add</th>\n",
       "      <th>added</th>\n",
       "      <th>additional</th>\n",
       "      <th>advice</th>\n",
       "      <th>afternoon</th>\n",
       "      <th>...</th>\n",
       "      <th>writing</th>\n",
       "      <th>wrong</th>\n",
       "      <th>year</th>\n",
       "      <th>years</th>\n",
       "      <th>yelp</th>\n",
       "      <th>yes</th>\n",
       "      <th>yet</th>\n",
       "      <th>young</th>\n",
       "      <th>yum</th>\n",
       "      <th>yummy</th>\n",
       "    </tr>\n",
       "  </thead>\n",
       "  <tbody>\n",
       "    <tr>\n",
       "      <th>0</th>\n",
       "      <td>0</td>\n",
       "      <td>0</td>\n",
       "      <td>0</td>\n",
       "      <td>0</td>\n",
       "      <td>0</td>\n",
       "      <td>0</td>\n",
       "      <td>0</td>\n",
       "      <td>0</td>\n",
       "      <td>0</td>\n",
       "      <td>0</td>\n",
       "      <td>...</td>\n",
       "      <td>0</td>\n",
       "      <td>0</td>\n",
       "      <td>0</td>\n",
       "      <td>0</td>\n",
       "      <td>0</td>\n",
       "      <td>0</td>\n",
       "      <td>0</td>\n",
       "      <td>0</td>\n",
       "      <td>0</td>\n",
       "      <td>0</td>\n",
       "    </tr>\n",
       "    <tr>\n",
       "      <th>1</th>\n",
       "      <td>0</td>\n",
       "      <td>0</td>\n",
       "      <td>0</td>\n",
       "      <td>0</td>\n",
       "      <td>0</td>\n",
       "      <td>0</td>\n",
       "      <td>0</td>\n",
       "      <td>0</td>\n",
       "      <td>0</td>\n",
       "      <td>0</td>\n",
       "      <td>...</td>\n",
       "      <td>0</td>\n",
       "      <td>0</td>\n",
       "      <td>0</td>\n",
       "      <td>0</td>\n",
       "      <td>0</td>\n",
       "      <td>0</td>\n",
       "      <td>0</td>\n",
       "      <td>0</td>\n",
       "      <td>0</td>\n",
       "      <td>0</td>\n",
       "    </tr>\n",
       "    <tr>\n",
       "      <th>2</th>\n",
       "      <td>0</td>\n",
       "      <td>0</td>\n",
       "      <td>0</td>\n",
       "      <td>0</td>\n",
       "      <td>0</td>\n",
       "      <td>0</td>\n",
       "      <td>0</td>\n",
       "      <td>0</td>\n",
       "      <td>0</td>\n",
       "      <td>0</td>\n",
       "      <td>...</td>\n",
       "      <td>0</td>\n",
       "      <td>0</td>\n",
       "      <td>0</td>\n",
       "      <td>0</td>\n",
       "      <td>0</td>\n",
       "      <td>0</td>\n",
       "      <td>0</td>\n",
       "      <td>0</td>\n",
       "      <td>0</td>\n",
       "      <td>0</td>\n",
       "    </tr>\n",
       "    <tr>\n",
       "      <th>3</th>\n",
       "      <td>0</td>\n",
       "      <td>0</td>\n",
       "      <td>0</td>\n",
       "      <td>0</td>\n",
       "      <td>1</td>\n",
       "      <td>0</td>\n",
       "      <td>0</td>\n",
       "      <td>0</td>\n",
       "      <td>0</td>\n",
       "      <td>0</td>\n",
       "      <td>...</td>\n",
       "      <td>0</td>\n",
       "      <td>0</td>\n",
       "      <td>0</td>\n",
       "      <td>0</td>\n",
       "      <td>0</td>\n",
       "      <td>0</td>\n",
       "      <td>0</td>\n",
       "      <td>0</td>\n",
       "      <td>0</td>\n",
       "      <td>0</td>\n",
       "    </tr>\n",
       "    <tr>\n",
       "      <th>4</th>\n",
       "      <td>0</td>\n",
       "      <td>0</td>\n",
       "      <td>0</td>\n",
       "      <td>0</td>\n",
       "      <td>0</td>\n",
       "      <td>0</td>\n",
       "      <td>0</td>\n",
       "      <td>0</td>\n",
       "      <td>0</td>\n",
       "      <td>0</td>\n",
       "      <td>...</td>\n",
       "      <td>0</td>\n",
       "      <td>0</td>\n",
       "      <td>0</td>\n",
       "      <td>1</td>\n",
       "      <td>0</td>\n",
       "      <td>0</td>\n",
       "      <td>0</td>\n",
       "      <td>0</td>\n",
       "      <td>0</td>\n",
       "      <td>0</td>\n",
       "    </tr>\n",
       "  </tbody>\n",
       "</table>\n",
       "<p>5 rows × 1080 columns</p>\n",
       "</div>"
      ],
      "text/plain": [
       "   able  absolutely  accommodating  across  actually  add  added  additional  \\\n",
       "0     0           0              0       0         0    0      0           0   \n",
       "1     0           0              0       0         0    0      0           0   \n",
       "2     0           0              0       0         0    0      0           0   \n",
       "3     0           0              0       0         1    0      0           0   \n",
       "4     0           0              0       0         0    0      0           0   \n",
       "\n",
       "   advice  afternoon  ...  writing  wrong  year  years  yelp  yes  yet  young  \\\n",
       "0       0          0  ...        0      0     0      0     0    0    0      0   \n",
       "1       0          0  ...        0      0     0      0     0    0    0      0   \n",
       "2       0          0  ...        0      0     0      0     0    0    0      0   \n",
       "3       0          0  ...        0      0     0      0     0    0    0      0   \n",
       "4       0          0  ...        0      0     0      1     0    0    0      0   \n",
       "\n",
       "   yum  yummy  \n",
       "0    0      0  \n",
       "1    0      0  \n",
       "2    0      0  \n",
       "3    0      0  \n",
       "4    0      0  \n",
       "\n",
       "[5 rows x 1080 columns]"
      ]
     },
     "execution_count": 7,
     "metadata": {},
     "output_type": "execute_result"
    }
   ],
   "source": [
    "bow1000.head()"
   ]
  },
  {
   "cell_type": "markdown",
   "metadata": {
    "colab_type": "text",
    "id": "wK70_TmDFpp6"
   },
   "source": [
    "## Adding good-bad reviews column\n",
    "Categorize the data in 1000 random reviews.csv into two different classes: "
   ]
  },
  {
   "cell_type": "code",
   "execution_count": 5,
   "metadata": {
    "colab": {},
    "colab_type": "code",
    "id": "xG7kSVYz2n_Z"
   },
   "outputs": [],
   "source": [
    "# poistetaan ensin vanha, jos on jo olemassa\n",
    "if CATEGORY_COLUMN_NAME in random_reviews.columns:\n",
    "  random_reviews.drop([CATEGORY_COLUMN_NAME], axis=1)\n",
    "def label_category (row):\n",
    "   if row['stars'] >= GOOD_REVIEW_LIMIT : #3.5\n",
    "      return 1 #'good'\n",
    "   return 0 #'poor'\n",
    "random_reviews[CATEGORY_COLUMN_NAME] = random_reviews.apply (lambda row: label_category(row), axis=1)"
   ]
  },
  {
   "cell_type": "markdown",
   "metadata": {},
   "source": [
    "## Dumping files with pickle"
   ]
  },
  {
   "cell_type": "code",
   "execution_count": 6,
   "metadata": {
    "tags": []
   },
   "outputs": [],
   "source": [
    "with open(\"random_reviews.p\", \"wb\") as f:\n",
    "    pickle.dump( random_reviews, f )\n",
    "\n",
    "with open(\"bow1000.p\", \"wb\") as f:\n",
    "    pickle.dump( bow1000, f )"
   ]
  }
 ],
 "metadata": {
  "accelerator": "GPU",
  "colab": {
   "collapsed_sections": [],
   "name": "1 - Data import and cleaning, general settings.ipynb",
   "provenance": [
    {
     "file_id": "19U6wC5Ocyned6_iidnRIk5ZGhRHY_7kg",
     "timestamp": 1574756010728
    },
    {
     "file_id": "1RCDjTCw52em6vR270V-pccimBY-ijZ9v",
     "timestamp": 1573138412602
    }
   ],
   "toc_visible": true
  },
  "kernelspec": {
   "display_name": "Python 3.7.3 64-bit ('DS_project': conda)",
   "language": "python",
   "name": "python37364bitdsprojectcondae33d42fd09d849d197d0dc3d990372d8"
  },
  "language_info": {
   "codemirror_mode": {
    "name": "ipython",
    "version": 3
   },
   "file_extension": ".py",
   "mimetype": "text/x-python",
   "name": "python",
   "nbconvert_exporter": "python",
   "pygments_lexer": "ipython3",
   "version": "3.7.3"
  },
  "toc": {
   "base_numbering": 1,
   "nav_menu": {},
   "number_sections": true,
   "sideBar": true,
   "skip_h1_title": false,
   "title_cell": "Table of Contents",
   "title_sidebar": "Contents",
   "toc_cell": false,
   "toc_position": {},
   "toc_section_display": true,
   "toc_window_display": false
  },
  "varInspector": {
   "cols": {
    "lenName": 16,
    "lenType": 16,
    "lenVar": 40
   },
   "kernels_config": {
    "python": {
     "delete_cmd_postfix": "",
     "delete_cmd_prefix": "del ",
     "library": "var_list.py",
     "varRefreshCmd": "print(var_dic_list())"
    },
    "r": {
     "delete_cmd_postfix": ") ",
     "delete_cmd_prefix": "rm(",
     "library": "var_list.r",
     "varRefreshCmd": "cat(var_dic_list()) "
    }
   },
   "types_to_exclude": [
    "module",
    "function",
    "builtin_function_or_method",
    "instance",
    "_Feature"
   ],
   "window_display": true
  }
 },
 "nbformat": 4,
 "nbformat_minor": 1
}